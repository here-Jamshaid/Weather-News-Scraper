{
 "cells": [
  {
   "cell_type": "markdown",
   "id": "de8abf80-1291-461c-9038-59fc1196e875",
   "metadata": {},
   "source": [
    "## 1. API Handling\n"
   ]
  },
  {
   "cell_type": "markdown",
   "id": "b045e2fc-c243-42b1-8c6f-a1dc5b5f52ca",
   "metadata": {},
   "source": [
    "#### Q1: Fetch Weather Data using OpenWeatherMap API"
   ]
  },
  {
   "cell_type": "code",
   "execution_count": 24,
   "id": "59c1504c-2e87-4b3e-933b-f4bbd085d4a7",
   "metadata": {},
   "outputs": [
    {
     "name": "stdout",
     "output_type": "stream",
     "text": [
      "Weather in New York:\n",
      "Temperature: 1.49 degree Celsius\n",
      "Humidity: 60\n",
      "Description: overcast clouds\n"
     ]
    }
   ],
   "source": [
    "import requests\n",
    "\n",
    "def get_weather(city):\n",
    "    API_KEY = \"9d40b0522f0486fcab75529b4205f9ea\" \n",
    "    BASE_URL = \"https://api.openweathermap.org/data/2.5/weather\"\n",
    "    params = {\n",
    "        \"q\":city,\n",
    "        \"appid\": API_KEY,\n",
    "        \"units\": \"metric\"\n",
    "    }\n",
    "\n",
    "    resp = requests.get(BASE_URL, params=params)\n",
    "    if resp.status_code == 200:\n",
    "        data = resp.json()\n",
    "        temp = data[\"main\"][\"temp\"]\n",
    "        humidity = data[\"main\"][\"humidity\"]\n",
    "        weather_desc = data[\"weather\"][0][\"description\"]\n",
    "\n",
    "        print(f\"Weather in {city}:\")\n",
    "        print(f\"Temperature: {temp} degree Celsius\")\n",
    "        print(f\"Humidity: {humidity}\")\n",
    "        print(f\"Description: {weather_desc}\")\n",
    "    else:\n",
    "        print(\"Error Occurs!\")\n",
    "\n",
    "city = \"New York\"\n",
    "get_weather(city)"
   ]
  },
  {
   "cell_type": "markdown",
   "id": "ff3854e4-29e3-40c8-9a64-2e433abc1df3",
   "metadata": {},
   "source": [
    "## 2. File Handling & Data Processing "
   ]
  },
  {
   "cell_type": "markdown",
   "id": "8e56827f-acd9-4e33-8cd2-dcb5efaf847a",
   "metadata": {},
   "source": [
    "#### Q2: Load & Display CSV File"
   ]
  },
  {
   "cell_type": "code",
   "execution_count": 31,
   "id": "f8efcc5f-581d-4616-9bfa-1e7c98670c61",
   "metadata": {},
   "outputs": [
    {
     "data": {
      "text/html": [
       "<div>\n",
       "<style scoped>\n",
       "    .dataframe tbody tr th:only-of-type {\n",
       "        vertical-align: middle;\n",
       "    }\n",
       "\n",
       "    .dataframe tbody tr th {\n",
       "        vertical-align: top;\n",
       "    }\n",
       "\n",
       "    .dataframe thead th {\n",
       "        text-align: right;\n",
       "    }\n",
       "</style>\n",
       "<table border=\"1\" class=\"dataframe\">\n",
       "  <thead>\n",
       "    <tr style=\"text-align: right;\">\n",
       "      <th></th>\n",
       "      <th>Name</th>\n",
       "      <th>Salary</th>\n",
       "      <th>Department</th>\n",
       "      <th>Age</th>\n",
       "    </tr>\n",
       "  </thead>\n",
       "  <tbody>\n",
       "    <tr>\n",
       "      <th>0</th>\n",
       "      <td>Douglas</td>\n",
       "      <td>97308</td>\n",
       "      <td>Marketing</td>\n",
       "      <td>27</td>\n",
       "    </tr>\n",
       "    <tr>\n",
       "      <th>1</th>\n",
       "      <td>Thomas</td>\n",
       "      <td>61933</td>\n",
       "      <td>NaN</td>\n",
       "      <td>42</td>\n",
       "    </tr>\n",
       "    <tr>\n",
       "      <th>2</th>\n",
       "      <td>Maria</td>\n",
       "      <td>130590</td>\n",
       "      <td>Finance</td>\n",
       "      <td>38</td>\n",
       "    </tr>\n",
       "    <tr>\n",
       "      <th>3</th>\n",
       "      <td>Jerry</td>\n",
       "      <td>138705</td>\n",
       "      <td>Finance</td>\n",
       "      <td>39</td>\n",
       "    </tr>\n",
       "    <tr>\n",
       "      <th>4</th>\n",
       "      <td>Larry</td>\n",
       "      <td>101004</td>\n",
       "      <td>Client Services</td>\n",
       "      <td>41</td>\n",
       "    </tr>\n",
       "  </tbody>\n",
       "</table>\n",
       "</div>"
      ],
      "text/plain": [
       "      Name  Salary       Department  Age\n",
       "0  Douglas   97308        Marketing   27\n",
       "1   Thomas   61933              NaN   42\n",
       "2    Maria  130590          Finance   38\n",
       "3    Jerry  138705          Finance   39\n",
       "4    Larry  101004  Client Services   41"
      ]
     },
     "execution_count": 31,
     "metadata": {},
     "output_type": "execute_result"
    }
   ],
   "source": [
    "import pandas as pd \n",
    "\n",
    "file = \"Emplyees_Dataset.csv\"\n",
    "df = pd.read_csv(file, usecols=[\"Name\",\"Age\",\"Salary\",\"Department\"])\n",
    "df.head()\n",
    "\n"
   ]
  },
  {
   "cell_type": "markdown",
   "id": "5db68944-f109-4cff-a42c-21c2624e4d69",
   "metadata": {},
   "source": [
    "## 3. Web Scraping (Using requests & BeautifulSoup)"
   ]
  },
  {
   "cell_type": "markdown",
   "id": "8904aa59-d81c-42f2-9888-2e6eceff6a52",
   "metadata": {},
   "source": [
    "#### Q3: Extract Wikipedia Page Title"
   ]
  },
  {
   "cell_type": "code",
   "execution_count": 53,
   "id": "c322bc6f-9c58-4d7b-a23b-58a3b750cbee",
   "metadata": {},
   "outputs": [
    {
     "name": "stdout",
     "output_type": "stream",
     "text": [
      "Wikipedia Page Title : Web scraping - Wikipedia\n"
     ]
    }
   ],
   "source": [
    "from bs4 import BeautifulSoup\n",
    "\n",
    "def get_title(url):\n",
    "    response = requests.get(url)\n",
    "    # print(response.text) # fetch the content of Wikipedia Page \n",
    "    if response.status_code == 200:\n",
    "        soup = BeautifulSoup(response.text, \"html.parser\")\n",
    "        title = soup.find(\"title\")\n",
    "        print(\"Wikipedia Page Title :\", title.text)\n",
    "    else:\n",
    "        print(\"Error Occurs! \")\n",
    "\n",
    "url = \"https://en.wikipedia.org/wiki/Web_scraping\"\n",
    "get_title(url)"
   ]
  },
  {
   "cell_type": "markdown",
   "id": "bd8108d4-d22b-4d56-9913-3e1c92285f0c",
   "metadata": {},
   "source": [
    "#### Q4: Extract News Headlines from a Website ( BBC )\n"
   ]
  },
  {
   "cell_type": "code",
   "execution_count": 131,
   "id": "717f4e7e-e683-41d3-8312-3253fcb7731a",
   "metadata": {},
   "outputs": [
    {
     "name": "stdout",
     "output_type": "stream",
     "text": [
      "Latest News Headlines : \n",
      "\n",
      "1. China retaliates against US tariffs - but it also wants to talk\n",
      "2. Trump tariffs prompt retaliation from China and Canada as Mexico responds\n",
      "3. Parents' pride as injured Gazan boy takes first steps after surgery\n",
      "4. Vance denies insulting UK over ‘random country’ peacekeeping remarks\n",
      "5. All smiles in Meghan's upbeat Netflix series\n",
      "6. Trump tariffs prompt retaliation from China and Canada as Mexico responds\n",
      "7. Ukraine's PM says Kyiv determined to continue co-operation with US after Trump pauses aid\n",
      "8. India's fighter jet battle: US v Russia in the skies\n",
      "9. World's largest iceberg runs aground off remote island\n",
      "10. Parents' pride as injured Gazan boy takes first steps after surgery\n"
     ]
    }
   ],
   "source": [
    "\n",
    "def get_headline(url):\n",
    "    response = requests.get(url)\n",
    "    #print(response.text) #fetch homepage of BBC News\n",
    "    if response.status_code == 200:\n",
    "        soup = BeautifulSoup(response.text, \"html.parser\")\n",
    "        headline = soup.find_all(\"h2\")\n",
    "        print(\"Latest News Headlines : \\n\")\n",
    "        for i, headline in enumerate(headline[:10],1):  \n",
    "            print(f\"{i}. {headline.text}\")\n",
    "    else:\n",
    "        print(\"Error Occurs! \")\n",
    "\n",
    "url = \"https://www.bbc.com/news\"\n",
    "get_headline(url)"
   ]
  }
 ],
 "metadata": {
  "kernelspec": {
   "display_name": "Python 3 (ipykernel)",
   "language": "python",
   "name": "python3"
  },
  "language_info": {
   "codemirror_mode": {
    "name": "ipython",
    "version": 3
   },
   "file_extension": ".py",
   "mimetype": "text/x-python",
   "name": "python",
   "nbconvert_exporter": "python",
   "pygments_lexer": "ipython3",
   "version": "3.12.7"
  }
 },
 "nbformat": 4,
 "nbformat_minor": 5
}
